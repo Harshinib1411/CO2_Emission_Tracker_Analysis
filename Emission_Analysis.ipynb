{
 "cells": [
  {
   "cell_type": "code",
   "execution_count": 1,
   "id": "9e86e223-cf44-4f6d-b5e0-e5aa0916ba80",
   "metadata": {},
   "outputs": [
    {
     "name": "stdout",
     "output_type": "stream",
     "text": [
      "Requirement already satisfied: pandas in c:\\users\\harsh\\appdata\\roaming\\python\\python312\\site-packages (2.2.3)\n",
      "Requirement already satisfied: openpyxl in c:\\users\\harsh\\anaconda3\\lib\\site-packages (3.1.5)\n",
      "Requirement already satisfied: matplotlib in c:\\users\\harsh\\appdata\\roaming\\python\\python312\\site-packages (3.10.1)\n",
      "Requirement already satisfied: numpy>=1.26.0 in c:\\users\\harsh\\appdata\\roaming\\python\\python312\\site-packages (from pandas) (2.2.2)\n",
      "Requirement already satisfied: python-dateutil>=2.8.2 in c:\\users\\harsh\\appdata\\roaming\\python\\python312\\site-packages (from pandas) (2.9.0.post0)\n",
      "Requirement already satisfied: pytz>=2020.1 in c:\\users\\harsh\\appdata\\roaming\\python\\python312\\site-packages (from pandas) (2025.1)\n",
      "Requirement already satisfied: tzdata>=2022.7 in c:\\users\\harsh\\appdata\\roaming\\python\\python312\\site-packages (from pandas) (2025.1)\n",
      "Requirement already satisfied: et-xmlfile in c:\\users\\harsh\\anaconda3\\lib\\site-packages (from openpyxl) (1.1.0)\n",
      "Requirement already satisfied: contourpy>=1.0.1 in c:\\users\\harsh\\appdata\\roaming\\python\\python312\\site-packages (from matplotlib) (1.3.1)\n",
      "Requirement already satisfied: cycler>=0.10 in c:\\users\\harsh\\appdata\\roaming\\python\\python312\\site-packages (from matplotlib) (0.12.1)\n",
      "Requirement already satisfied: fonttools>=4.22.0 in c:\\users\\harsh\\appdata\\roaming\\python\\python312\\site-packages (from matplotlib) (4.56.0)\n",
      "Requirement already satisfied: kiwisolver>=1.3.1 in c:\\users\\harsh\\appdata\\roaming\\python\\python312\\site-packages (from matplotlib) (1.4.8)\n",
      "Requirement already satisfied: packaging>=20.0 in c:\\users\\harsh\\appdata\\roaming\\python\\python312\\site-packages (from matplotlib) (24.2)\n",
      "Requirement already satisfied: pillow>=8 in c:\\users\\harsh\\appdata\\roaming\\python\\python312\\site-packages (from matplotlib) (11.1.0)\n",
      "Requirement already satisfied: pyparsing>=2.3.1 in c:\\users\\harsh\\appdata\\roaming\\python\\python312\\site-packages (from matplotlib) (3.2.1)\n",
      "Requirement already satisfied: six>=1.5 in c:\\users\\harsh\\appdata\\roaming\\python\\python312\\site-packages (from python-dateutil>=2.8.2->pandas) (1.17.0)\n",
      "Note: you may need to restart the kernel to use updated packages.\n"
     ]
    }
   ],
   "source": [
    "pip install pandas openpyxl matplotlib"
   ]
  },
  {
   "cell_type": "code",
   "execution_count": 3,
   "id": "eac4abdc-7593-460b-9e11-7b14a848be6d",
   "metadata": {},
   "outputs": [
    {
     "name": "stdout",
     "output_type": "stream",
     "text": [
      "         Country  Year     Sector  CO2_Emissions_Mt\n",
      "0  United States  2015     Energy            218.54\n",
      "1  United States  2015  Transport            477.82\n",
      "2  United States  2015   Industry            379.40\n",
      "3  United States  2016     Energy            319.40\n",
      "4  United States  2016  Transport            120.21\n",
      "         Country  Year  GDP_Billion_USD\n",
      "0  United States  2015         16225.35\n",
      "1  United States  2016         16240.25\n",
      "2  United States  2017         17368.03\n",
      "3  United States  2018         18282.16\n",
      "4  United States  2019         10324.58\n",
      "         Country  Year  Population_Millions\n",
      "0  United States  2015               549.56\n",
      "1  United States  2016               904.17\n",
      "2  United States  2017               646.97\n",
      "3  United States  2018               768.41\n",
      "4  United States  2019              1318.64\n"
     ]
    }
   ],
   "source": [
    "import pandas as pd\n",
    "\n",
    "emissions = pd.read_csv(\"C://Users//harsh//Downloads//global_co2_emissions.csv\")\n",
    "gdp = pd.read_csv(\"C://Users//harsh//Downloads//country_gdp.csv\")\n",
    "population = pd.read_csv(\"C://Users//harsh//Downloads//country_population.csv\")\n",
    "\n",
    "print(emissions.head())\n",
    "print(gdp.head())\n",
    "print(population.head())\n"
   ]
  },
  {
   "cell_type": "code",
   "execution_count": 5,
   "id": "e1b952bf-3cb9-47b9-9358-789bf3e5256e",
   "metadata": {},
   "outputs": [],
   "source": [
    "emissions.dropna(inplace=True)"
   ]
  },
  {
   "cell_type": "code",
   "execution_count": 7,
   "id": "74aaa85b-78ca-4cd1-9ab3-7238e4cd33dd",
   "metadata": {},
   "outputs": [],
   "source": [
    "merged = emissions.merge(gdp, on=[\"Country\", \"Year\"], how=\"left\")\n",
    "merged = merged.merge(population, on=[\"Country\", \"Year\"], how=\"left\")"
   ]
  },
  {
   "cell_type": "code",
   "execution_count": 13,
   "id": "2de97f4f-6d2f-4b27-95ab-48af2cbc7303",
   "metadata": {},
   "outputs": [],
   "source": [
    "merged[\"GDP_Billion_USD\"] = merged[\"GDP_Billion_USD\"].fillna(0)\n",
    "merged[\"Population_Millions\"] = merged[\"Population_Millions\"].fillna(0)\n"
   ]
  },
  {
   "cell_type": "code",
   "execution_count": 15,
   "id": "18c4610d-f04a-4ebd-acdf-b81a596b88cc",
   "metadata": {},
   "outputs": [
    {
     "name": "stdout",
     "output_type": "stream",
     "text": [
      "<class 'pandas.core.frame.DataFrame'>\n",
      "RangeIndex: 270 entries, 0 to 269\n",
      "Data columns (total 6 columns):\n",
      " #   Column               Non-Null Count  Dtype  \n",
      "---  ------               --------------  -----  \n",
      " 0   Country              270 non-null    object \n",
      " 1   Year                 270 non-null    int64  \n",
      " 2   Sector               270 non-null    object \n",
      " 3   CO2_Emissions_Mt     270 non-null    float64\n",
      " 4   GDP_Billion_USD      270 non-null    float64\n",
      " 5   Population_Millions  270 non-null    float64\n",
      "dtypes: float64(3), int64(1), object(2)\n",
      "memory usage: 12.8+ KB\n",
      "None\n"
     ]
    }
   ],
   "source": [
    "print(merged.info())"
   ]
  },
  {
   "cell_type": "code",
   "execution_count": 17,
   "id": "7aecd799-e32d-4097-a6f5-e094801c6a69",
   "metadata": {},
   "outputs": [],
   "source": [
    "merged[\"CO2_per_capita\"] = merged[\"CO2_Emissions_Mt\"] / merged[\"Population_Millions\"]\n",
    "merged[\"CO2_per_GDP\"] = merged[\"CO2_Emissions_Mt\"] / merged[\"GDP_Billion_USD\"]\n"
   ]
  },
  {
   "cell_type": "code",
   "execution_count": 19,
   "id": "783cb542-7a88-4e8f-b882-bd8e4632f2f9",
   "metadata": {},
   "outputs": [],
   "source": [
    "merged.to_excel(\"C://Users//harsh//Downloads//Cleaned_CO2_Data.xlsx\", index=False)\n"
   ]
  },
  {
   "cell_type": "code",
   "execution_count": null,
   "id": "44d81bc1-21c7-4cc4-84a7-6805a6931bd0",
   "metadata": {},
   "outputs": [],
   "source": []
  }
 ],
 "metadata": {
  "kernelspec": {
   "display_name": "Python 3 (ipykernel)",
   "language": "python",
   "name": "python3"
  },
  "language_info": {
   "codemirror_mode": {
    "name": "ipython",
    "version": 3
   },
   "file_extension": ".py",
   "mimetype": "text/x-python",
   "name": "python",
   "nbconvert_exporter": "python",
   "pygments_lexer": "ipython3",
   "version": "3.12.7"
  }
 },
 "nbformat": 4,
 "nbformat_minor": 5
}
